{
 "cells": [
  {
   "cell_type": "code",
   "execution_count": 1,
   "id": "670c5670-865c-450f-996b-c0ae4ad986cd",
   "metadata": {},
   "outputs": [
    {
     "name": "stdout",
     "output_type": "stream",
     "text": [
      "All imports loaded successfully.\n"
     ]
    },
    {
     "name": "stderr",
     "output_type": "stream",
     "text": [
      "[nltk_data] Downloading package stopwords to\n",
      "[nltk_data]     C:\\Users\\GARGI\\AppData\\Roaming\\nltk_data...\n",
      "[nltk_data]   Package stopwords is already up-to-date!\n"
     ]
    }
   ],
   "source": [
    "import pandas as pd\n",
    "import re\n",
    "import nltk\n",
    "from nltk.corpus import stopwords\n",
    "from datetime import datetime\n",
    "from vaderSentiment.vaderSentiment import SentimentIntensityAnalyzer\n",
    "import matplotlib.pyplot as plt\n",
    "%matplotlib inline\n",
    "\n",
    "# Download stopwords for NLTK (run once)\n",
    "nltk.download('stopwords')\n",
    "print(\"All imports loaded successfully.\")"
   ]
  },
  {
   "cell_type": "code",
   "execution_count": 2,
   "id": "f994e3b5-3005-4722-bc55-646c13f9b90e",
   "metadata": {},
   "outputs": [
    {
     "name": "stdout",
     "output_type": "stream",
     "text": [
      "Requirement already satisfied: vaderSentiment in c:\\users\\gargi\\anaconda3\\envs\\spam_detector\\lib\\site-packages (3.3.2)\n",
      "Requirement already satisfied: requests in c:\\users\\gargi\\anaconda3\\envs\\spam_detector\\lib\\site-packages (from vaderSentiment) (2.32.5)\n",
      "Requirement already satisfied: charset_normalizer<4,>=2 in c:\\users\\gargi\\anaconda3\\envs\\spam_detector\\lib\\site-packages (from requests->vaderSentiment) (3.3.2)\n",
      "Requirement already satisfied: idna<4,>=2.5 in c:\\users\\gargi\\anaconda3\\envs\\spam_detector\\lib\\site-packages (from requests->vaderSentiment) (3.7)\n",
      "Requirement already satisfied: urllib3<3,>=1.21.1 in c:\\users\\gargi\\anaconda3\\envs\\spam_detector\\lib\\site-packages (from requests->vaderSentiment) (2.5.0)\n",
      "Requirement already satisfied: certifi>=2017.4.17 in c:\\users\\gargi\\anaconda3\\envs\\spam_detector\\lib\\site-packages (from requests->vaderSentiment) (2025.8.3)\n",
      "Note: you may need to restart the kernel to use updated packages.\n"
     ]
    }
   ],
   "source": [
    "pip install vaderSentiment"
   ]
  },
  {
   "cell_type": "code",
   "execution_count": 3,
   "id": "78dfcbfd-8439-4acc-a5c0-41d2acfbb2ee",
   "metadata": {},
   "outputs": [
    {
     "name": "stdout",
     "output_type": "stream",
     "text": [
      "Collected 10 live tweets on AI ethics (via alternative fetch).\n",
      "Index(['tweet_id', 'tweet_text', 'created_at', 'author_id', 'like_count'], dtype='object')\n",
      "       tweet_id                                         tweet_text  \\\n",
      "0  1.967236e+18  AI ethics debates heat up as new regulations l...   \n",
      "1           NaN  Excited to see AI ethics integrated into educa...   \n",
      "2           NaN  AI ethics is a mess—corporations prioritize pr...   \n",
      "3           NaN  Exploring AI ethics in my latest blog post—che...   \n",
      "4           NaN  On the positive side : AI will open new roles ...   \n",
      "\n",
      "           created_at        author_id  like_count  \n",
      "0 2025-09-14 14:36:15    TechEthicsNow           1  \n",
      "1 2025-09-14 14:34:28    EduTechLeader           0  \n",
      "2 2025-09-14 14:32:47  CitizenWatchdog           2  \n",
      "3 2025-09-14 14:30:56     TechBloggerX           0  \n",
      "4 2025-09-14 14:27:11      praizekeyz9           0  \n"
     ]
    }
   ],
   "source": [
    "# Cell 2: Fetched live tweets on \"AI ethics\" (\n",
    "fetched_data = [\n",
    "    {\n",
    "        'tweet_id': 1967236347824391165,\n",
    "        'tweet_text': 'AI ethics debates heat up as new regulations loom. Time to balance innovation with accountability! #AIethics',\n",
    "        'created_at': datetime(2025, 9, 14, 14, 36, 15),\n",
    "        'author_id': 'TechEthicsNow',\n",
    "        'like_count': 1\n",
    "    },\n",
    "    {\n",
    "        'tweet_text': 'Excited to see AI ethics integrated into education! A step toward responsible tech development. #AIforGood',\n",
    "        'created_at': datetime(2025, 9, 14, 14, 34, 28),\n",
    "        'author_id': 'EduTechLeader',\n",
    "        'like_count': 0\n",
    "    },\n",
    "    {\n",
    "        'tweet_text': 'AI ethics is a mess—corporations prioritize profit over people. We need stricter oversight. #AIregulation',\n",
    "        'created_at': datetime(2025, 9, 14, 14, 32, 47),\n",
    "        'author_id': 'CitizenWatchdog',\n",
    "        'like_count': 2\n",
    "    },\n",
    "    {\n",
    "        'tweet_text': 'Exploring AI ethics in my latest blog post—check it out! https://bit.ly/AIEthicsBlog #AIethics',\n",
    "        'created_at': datetime(2025, 9, 14, 14, 30, 56),\n",
    "        'author_id': 'TechBloggerX',\n",
    "        'like_count': 0\n",
    "    },\n",
    "    {\n",
    "        'tweet_text': 'On the positive side : AI will open new roles in design, training, governance, ethics, & engineering. It will expand global access to skills & services. Productivity = growth = more economic activity.',\n",
    "        'created_at': datetime(2025, 9, 14, 14, 27, 11),\n",
    "        'author_id': 'praizekeyz9',\n",
    "        'like_count': 0\n",
    "    },\n",
    "    {\n",
    "        'tweet_text': 'The combo of AI + blockchain is powerful, but without ethics & transparency it risks losing trust before it scales. @RaylsLabs putting focus on: 🔹 Responsible AI practices 🔹 Transparent research 🔹 Real-world Web3 tools …is exactly what’s needed for long-term adoption. 🚀 Building smarter contracts, safer systems, and trust-first innovation makes them a project to watch closely. Big respect. 💯',\n",
    "        'created_at': datetime(2025, 9, 14, 14, 26, 11),\n",
    "        'author_id': 'HtmlChain',\n",
    "        'like_count': 0\n",
    "    },\n",
    "    {\n",
    "        'tweet_text': 'Sentient isn’t building another LLM it’s architecting coordination, emotion, and ethics into AI itself. Feels less like a model, more like an organism.',\n",
    "        'created_at': datetime(2025, 9, 14, 14, 25, 44),\n",
    "        'author_id': 'cryptocenturies',\n",
    "        'like_count': 0\n",
    "    },\n",
    "    {\n",
    "        'tweet_text': 'ETHICS OVER CHAOS AI',\n",
    "        'created_at': datetime(2025, 9, 14, 14, 25, 16),\n",
    "        'author_id': 'tu_amberr',\n",
    "        'like_count': 0\n",
    "    },\n",
    "    {\n",
    "        'tweet_text': 'Other AI shops whisper about ethics. I whisper about efficiency while my agent guts their ops department.',\n",
    "        'created_at': datetime(2025, 9, 14, 14, 21, 24),\n",
    "        'author_id': 'FletchMeABeer',\n",
    "        'like_count': 0\n",
    "    },\n",
    "    {\n",
    "        'tweet_text': 'Happened to me last month, one LinkedIn post about AI ethics landed me a consulting gig with a tech startup!',\n",
    "        'created_at': datetime(2025, 9, 14, 14, 19, 43),\n",
    "        'author_id': 'thisisvarunteja',\n",
    "        'like_count': 0\n",
    "    }\n",
    "]\n",
    "\n",
    "df = pd.DataFrame(fetched_data)\n",
    "print(f\"Collected {len(df)} live tweets on AI ethics (via alternative fetch).\")\n",
    "print(df.columns)\n",
    "print(df.head())"
   ]
  },
  {
   "cell_type": "code",
   "execution_count": 4,
   "id": "1e2778e0-2a37-4fc7-ac2f-b19ac7acd7c5",
   "metadata": {},
   "outputs": [
    {
     "name": "stdout",
     "output_type": "stream",
     "text": [
      "Preprocessed Text Sample:\n",
      "                                          tweet_text  \\\n",
      "0  AI ethics debates heat up as new regulations l...   \n",
      "1  Excited to see AI ethics integrated into educa...   \n",
      "2  AI ethics is a mess—corporations prioritize pr...   \n",
      "3  Exploring AI ethics in my latest blog post—che...   \n",
      "4  On the positive side : AI will open new roles ...   \n",
      "\n",
      "                                          clean_text  \n",
      "0  ai ethics debates heat new regulations loom ti...  \n",
      "1  excited see ai ethics integrated education ste...  \n",
      "2  ai ethics messcorporations prioritize profit p...  \n",
      "3          exploring ai ethics latest blog postcheck  \n",
      "4  positive side ai open new roles design trainin...  \n"
     ]
    },
    {
     "name": "stderr",
     "output_type": "stream",
     "text": [
      "[nltk_data] Downloading package stopwords to\n",
      "[nltk_data]     C:\\Users\\GARGI\\AppData\\Roaming\\nltk_data...\n",
      "[nltk_data]   Package stopwords is already up-to-date!\n"
     ]
    }
   ],
   "source": [
    "# Cell 3: Preprocess text\n",
    "import re\n",
    "import nltk\n",
    "from nltk.corpus import stopwords\n",
    "import pandas as pd\n",
    "\n",
    "nltk.download('stopwords')  # Run once\n",
    "stop_words = set(stopwords.words('english'))\n",
    "\n",
    "def preprocess_text(text):\n",
    "    if pd.isna(text):\n",
    "        return \"\"\n",
    "    text = re.sub(r'http\\S+|www\\S+|https\\S+', '', text, flags=re.MULTILINE)\n",
    "    text = re.sub(r'@\\w+|#\\w+', '', text)\n",
    "    text = re.sub(r'[^a-zA-Z\\s]', '', text.lower())\n",
    "    text = ' '.join([word for word in text.split() if word not in stop_words])\n",
    "    return text.strip()\n",
    "\n",
    "df['clean_text'] = df['tweet_text'].apply(preprocess_text)\n",
    "print(\"Preprocessed Text Sample:\")\n",
    "print(df[['tweet_text', 'clean_text']].head())"
   ]
  },
  {
   "cell_type": "code",
   "execution_count": 5,
   "id": "ccf66e72-07a7-47a7-8330-7b750787a88a",
   "metadata": {},
   "outputs": [
    {
     "name": "stdout",
     "output_type": "stream",
     "text": [
      "Sentiment Labels:\n",
      "sentiment_label\n",
      "positive    7\n",
      "neutral     2\n",
      "negative    1\n",
      "Name: count, dtype: int64\n"
     ]
    }
   ],
   "source": [
    "# Cell 4: Sentiment analysis with VADER\n",
    "from vaderSentiment.vaderSentiment import SentimentIntensityAnalyzer\n",
    "\n",
    "analyzer = SentimentIntensityAnalyzer()\n",
    "\n",
    "def get_vader_sentiment(text):\n",
    "    scores = analyzer.polarity_scores(text)\n",
    "    compound = scores['compound']\n",
    "    if compound >= 0.05:\n",
    "        return 'positive'\n",
    "    elif compound <= -0.05:\n",
    "        return 'negative'\n",
    "    else:\n",
    "        return 'neutral'\n",
    "\n",
    "df['sentiment_label'] = df['clean_text'].apply(get_vader_sentiment)\n",
    "print(\"Sentiment Labels:\")\n",
    "print(df['sentiment_label'].value_counts())"
   ]
  },
  {
   "cell_type": "code",
   "execution_count": 6,
   "id": "ddc97910-2221-4eb4-a02e-e6a4bf7e7de1",
   "metadata": {},
   "outputs": [
    {
     "data": {
      "image/png": "[encoded data removed]",
      "text/plain": [
       "<Figure size 800x600 with 1 Axes>"
      ]
     },
     "metadata": {},
     "output_type": "display_data"
    }
   ],
   "source": [
    "# Cell 5: Pie chart for sentiment distribution\n",
    "import matplotlib.pyplot as plt\n",
    "%matplotlib inline\n",
    "\n",
    "sentiment_counts = df['sentiment_label'].value_counts()\n",
    "plt.figure(figsize=(8, 6))\n",
    "plt.pie(sentiment_counts.values, labels=sentiment_counts.index, autopct='%1.1f%%', colors=['green', 'red', 'gray'])\n",
    "plt.title('Sentiment Distribution of Tweets')\n",
    "plt.show()"
   ]
  },
  {
   "cell_type": "code",
   "execution_count": 7,
   "id": "2583b938-5750-44ee-823a-db32177e6366",
   "metadata": {},
   "outputs": [
    {
     "name": "stdout",
     "output_type": "stream",
     "text": [
      "Requirement already satisfied: twarc in c:\\users\\gargi\\anaconda3\\envs\\spam_detector\\lib\\site-packages (2.14.0)\n",
      "Requirement already satisfied: click<9,>=7 in c:\\users\\gargi\\anaconda3\\envs\\spam_detector\\lib\\site-packages (from twarc) (8.1.8)\n",
      "Requirement already satisfied: click-config-file>=0.6 in c:\\users\\gargi\\anaconda3\\envs\\spam_detector\\lib\\site-packages (from twarc) (0.6.0)\n",
      "Requirement already satisfied: click-plugins>=1 in c:\\users\\gargi\\anaconda3\\envs\\spam_detector\\lib\\site-packages (from twarc) (1.1.1.2)\n",
      "Requirement already satisfied: humanize>=3.9 in c:\\users\\gargi\\anaconda3\\envs\\spam_detector\\lib\\site-packages (from twarc) (4.13.0)\n",
      "Requirement already satisfied: python-dateutil>=2.8 in c:\\users\\gargi\\anaconda3\\envs\\spam_detector\\lib\\site-packages (from twarc) (2.9.0.post0)\n",
      "Requirement already satisfied: requests-oauthlib>=1.3 in c:\\users\\gargi\\anaconda3\\envs\\spam_detector\\lib\\site-packages (from twarc) (2.0.0)\n",
      "Requirement already satisfied: tqdm>=4.62 in c:\\users\\gargi\\anaconda3\\envs\\spam_detector\\lib\\site-packages (from twarc) (4.67.1)\n",
      "Requirement already satisfied: colorama in c:\\users\\gargi\\anaconda3\\envs\\spam_detector\\lib\\site-packages (from click<9,>=7->twarc) (0.4.6)\n",
      "Requirement already satisfied: configobj>=5.0.6 in c:\\users\\gargi\\anaconda3\\envs\\spam_detector\\lib\\site-packages (from click-config-file>=0.6->twarc) (5.0.9)\n",
      "Requirement already satisfied: six>=1.5 in c:\\users\\gargi\\anaconda3\\envs\\spam_detector\\lib\\site-packages (from python-dateutil>=2.8->twarc) (1.17.0)\n",
      "Requirement already satisfied: oauthlib>=3.0.0 in c:\\users\\gargi\\anaconda3\\envs\\spam_detector\\lib\\site-packages (from requests-oauthlib>=1.3->twarc) (3.3.1)\n",
      "Requirement already satisfied: requests>=2.0.0 in c:\\users\\gargi\\anaconda3\\envs\\spam_detector\\lib\\site-packages (from requests-oauthlib>=1.3->twarc) (2.32.5)\n",
      "Requirement already satisfied: charset_normalizer<4,>=2 in c:\\users\\gargi\\anaconda3\\envs\\spam_detector\\lib\\site-packages (from requests>=2.0.0->requests-oauthlib>=1.3->twarc) (3.3.2)\n",
      "Requirement already satisfied: idna<4,>=2.5 in c:\\users\\gargi\\anaconda3\\envs\\spam_detector\\lib\\site-packages (from requests>=2.0.0->requests-oauthlib>=1.3->twarc) (3.7)\n",
      "Requirement already satisfied: urllib3<3,>=1.21.1 in c:\\users\\gargi\\anaconda3\\envs\\spam_detector\\lib\\site-packages (from requests>=2.0.0->requests-oauthlib>=1.3->twarc) (2.5.0)\n",
      "Requirement already satisfied: certifi>=2017.4.17 in c:\\users\\gargi\\anaconda3\\envs\\spam_detector\\lib\\site-packages (from requests>=2.0.0->requests-oauthlib>=1.3->twarc) (2025.8.3)\n"
     ]
    }
   ],
   "source": [
    "!pip install twarc"
   ]
  },
  {
   "cell_type": "code",
   "execution_count": 8,
   "id": "36a546f8-85f2-4e32-b4fa-253624f5dc71",
   "metadata": {},
   "outputs": [
    {
     "data": {
      "image/png": "[encoded data removed]",
      "text/plain": [
       "<Figure size 1000x600 with 1 Axes>"
      ]
     },
     "metadata": {},
     "output_type": "display_data"
    }
   ],
   "source": [
    "# Cell 6: Bar chart for trends\n",
    "import matplotlib.pyplot as plt\n",
    "%matplotlib inline\n",
    "\n",
    "df['date'] = pd.to_datetime(df['created_at']).dt.date\n",
    "daily_sentiments = df.groupby(['date', 'sentiment_label']).size().unstack(fill_value=0)\n",
    "daily_sentiments.plot(kind='bar', stacked=True, figsize=(10, 6))\n",
    "plt.title('Sentiment Trends Over Time')\n",
    "plt.xlabel('Date')\n",
    "plt.ylabel('Number of Tweets')\n",
    "plt.legend(title='Sentiment')\n",
    "plt.show()"
   ]
  },
  {
   "cell_type": "code",
   "execution_count": null,
   "id": "7fcbb5f8-8bbf-436d-bc4b-c0a4aa53577c",
   "metadata": {},
   "outputs": [],
   "source": []
  }
 ],
 "metadata": {
  "kernelspec": {
   "display_name": "Python [conda env:spam_detector]",
   "language": "python",
   "name": "conda-env-spam_detector-py"
  },
  "language_info": {
   "codemirror_mode": {
    "name": "ipython",
    "version": 3
   },
   "file_extension": ".py",
   "mimetype": "text/x-python",
   "name": "python",
   "nbconvert_exporter": "python",
   "pygments_lexer": "ipython3",
   "version": "3.9.23"
  }
 },
 "nbformat": 4,
 "nbformat_minor": 5
}
