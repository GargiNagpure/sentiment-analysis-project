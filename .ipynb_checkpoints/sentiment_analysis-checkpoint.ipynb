{
 "cells": [
  {
   "cell_type": "code",
   "execution_count": 173,
   "id": "670c5670-865c-450f-996b-c0ae4ad986cd",
   "metadata": {},
   "outputs": [
    {
     "name": "stdout",
     "output_type": "stream",
     "text": [
      "All imports loaded successfully.\n"
     ]
    },
    {
     "name": "stderr",
     "output_type": "stream",
     "text": [
      "[nltk_data] Downloading package stopwords to\n",
      "[nltk_data]     C:\\Users\\GARGI\\AppData\\Roaming\\nltk_data...\n",
      "[nltk_data]   Package stopwords is already up-to-date!\n"
     ]
    }
   ],
   "source": [
    "# Import necessary libraries (e.g., Cell 1)\n",
    "import tweepy\n",
    "import pandas as pd\n",
    "import re\n",
    "import nltk\n",
    "from nltk.corpus import stopwords\n",
    "from sklearn.feature_extraction.text import TfidfVectorizer\n",
    "from sklearn.linear_model import LogisticRegression\n",
    "from sklearn.pipeline import make_pipeline\n",
    "from sklearn.model_selection import train_test_split\n",
    "import numpy as np\n",
    "from datetime import datetime\n",
    "from vaderSentiment.vaderSentiment import SentimentIntensityAnalyzer\n",
    "import matplotlib.pyplot as plt\n",
    "%matplotlib inline\n",
    "\n",
    "nltk.download('stopwords')  # Ensure stopwords are downloaded\n",
    "print(\"All imports loaded successfully.\")"
   ]
  },
  {
   "cell_type": "code",
   "execution_count": 174,
   "id": "efd141f7-43d4-40e8-a51a-907e04ddc51c",
   "metadata": {},
   "outputs": [],
   "source": [
    "# New: VADER for initial sentiment labeling\n",
    "from vaderSentiment.vaderSentiment import SentimentIntensityAnalyzer"
   ]
  },
  {
   "cell_type": "code",
   "execution_count": 175,
   "id": "1e2778e0-2a37-4fc7-ac2f-b19ac7acd7c5",
   "metadata": {},
   "outputs": [],
   "source": [
    "# Your earlier authentication (keep/replace with your actual token)\n",
    "bearer_token = \"YOUR_BEARER_TOKEN\"  # Replace with your real token\n",
    "client = tweepy.Client(bearer_token=bearer_token)"
   ]
  },
  {
   "cell_type": "code",
   "execution_count": 176,
   "id": "ccf66e72-07a7-47a7-8330-7b750787a88a",
   "metadata": {},
   "outputs": [
    {
     "name": "stdout",
     "output_type": "stream",
     "text": [
      "Current working directory: C:\\Users\\GARGI\\sentiment_analysis_project\n",
      "Updated working directory: C:\\Users\\GARGI\\sentiment_analysis_project\n",
      "An error occurred: name 'preprocess_tweet' is not defined\n"
     ]
    }
   ],
   "source": [
    "import os\n",
    "print(\"Current working directory:\", os.getcwd())\n",
    "os.chdir('C:/Users/GARGI/sentiment_analysis_project')\n",
    "print(\"Updated working directory:\", os.getcwd())\n",
    "\n",
    "try:\n",
    "    df = pd.read_csv('Tweets.csv')\n",
    "    df = df[['text', 'airline_sentiment']]\n",
    "    df['text'] = df['text'].apply(preprocess_tweet)\n",
    "    df = df.dropna()\n",
    "    print(\"Dataset loaded. Shape:\", df.shape)\n",
    "    print(df.head())\n",
    "except FileNotFoundError:\n",
    "    print(r\"Error: Tweets.csv not found in C:\\Users\\GARGI\\sentiment_analysis_project. Ensure it’s extracted and placed correctly.\")\n",
    "except Exception as e:\n",
    "    print(\"An error occurred:\", e)"
   ]
  },
  {
   "cell_type": "code",
   "execution_count": 177,
   "id": "ddc97910-2221-4eb4-a02e-e6a4bf7e7de1",
   "metadata": {},
   "outputs": [
    {
     "name": "stdout",
     "output_type": "stream",
     "text": [
      "Error in Cell 167: \"Column 'tweet_text' not found in df. Please run the tweet collection step.\"\n"
     ]
    },
    {
     "name": "stderr",
     "output_type": "stream",
     "text": [
      "[nltk_data] Downloading package stopwords to\n",
      "[nltk_data]     C:\\Users\\GARGI\\AppData\\Roaming\\nltk_data...\n",
      "[nltk_data]   Package stopwords is already up-to-date!\n"
     ]
    }
   ],
   "source": [
    "# Preprocessing step (e.g., Cell 167)\n",
    "import nltk\n",
    "nltk.download('stopwords')  # Run once\n",
    "stop_words = set(nltk.corpus.stopwords.words('english'))\n",
    "\n",
    "def preprocess_text(text):\n",
    "    if pd.isna(text):\n",
    "        return \"\"\n",
    "    text = re.sub(r'http\\S+|www\\S+|https\\S+', '', text, flags=re.MULTILINE)\n",
    "    text = re.sub(r'@\\w+|#\\w+', '', text)\n",
    "    text = re.sub(r'[^a-zA-Z\\s]', '', text.lower())\n",
    "    text = ' '.join([word for word in text.split() if word not in stop_words])\n",
    "    return text.strip()\n",
    "\n",
    "try:\n",
    "    if 'tweet_text' not in df.columns:\n",
    "        raise KeyError(\"Column 'tweet_text' not found in df. Please run the tweet collection step.\")\n",
    "    df['clean_text'] = df['tweet_text'].apply(preprocess_text)\n",
    "    print(df[['tweet_text', 'clean_text']].head())\n",
    "except Exception as e:\n",
    "    print(f\"Error in Cell 167: {e}\")"
   ]
  },
  {
   "cell_type": "code",
   "execution_count": 178,
   "id": "e3dc89f9-c7b6-4de7-9efd-9e54b395b608",
   "metadata": {},
   "outputs": [
    {
     "name": "stdout",
     "output_type": "stream",
     "text": [
      "Error in VADER labeling: \"Column 'clean_text' not found. Please run the preprocessing step.\"\n"
     ]
    }
   ],
   "source": [
    "# New: VADER for auto-labeling (e.g., Cell 46)\n",
    "from vaderSentiment.vaderSentiment import SentimentIntensityAnalyzer\n",
    "analyzer = SentimentIntensityAnalyzer()\n",
    "\n",
    "def get_vader_sentiment(text):\n",
    "    scores = analyzer.polarity_scores(text)\n",
    "    compound = scores['compound']\n",
    "    if compound >= 0.05:\n",
    "        return 'positive'\n",
    "    elif compound <= -0.05:\n",
    "        return 'negative'\n",
    "    else:\n",
    "        return 'neutral'\n",
    "\n",
    "try:\n",
    "    if 'clean_text' not in df.columns:\n",
    "        raise KeyError(\"Column 'clean_text' not found. Please run the preprocessing step.\")\n",
    "    if 'sentiment_label' not in df.columns:\n",
    "        df['sentiment_label'] = df['clean_text'].apply(get_vader_sentiment)\n",
    "    print(\"Sentiment labels added with VADER.\")\n",
    "    print(df['sentiment_label'].value_counts())\n",
    "except Exception as e:\n",
    "    print(f\"Error in VADER labeling: {e}\")"
   ]
  },
  {
   "cell_type": "code",
   "execution_count": 179,
   "id": "2583b938-5750-44ee-823a-db32177e6366",
   "metadata": {},
   "outputs": [
    {
     "name": "stdout",
     "output_type": "stream",
     "text": [
      "Requirement already satisfied: twarc in c:\\users\\gargi\\anaconda3\\envs\\spam_detector\\lib\\site-packages (2.14.0)\n",
      "Requirement already satisfied: click<9,>=7 in c:\\users\\gargi\\anaconda3\\envs\\spam_detector\\lib\\site-packages (from twarc) (8.1.8)\n",
      "Requirement already satisfied: click-config-file>=0.6 in c:\\users\\gargi\\anaconda3\\envs\\spam_detector\\lib\\site-packages (from twarc) (0.6.0)\n",
      "Requirement already satisfied: click-plugins>=1 in c:\\users\\gargi\\anaconda3\\envs\\spam_detector\\lib\\site-packages (from twarc) (1.1.1.2)\n",
      "Requirement already satisfied: humanize>=3.9 in c:\\users\\gargi\\anaconda3\\envs\\spam_detector\\lib\\site-packages (from twarc) (4.13.0)\n",
      "Requirement already satisfied: python-dateutil>=2.8 in c:\\users\\gargi\\anaconda3\\envs\\spam_detector\\lib\\site-packages (from twarc) (2.9.0.post0)\n",
      "Requirement already satisfied: requests-oauthlib>=1.3 in c:\\users\\gargi\\anaconda3\\envs\\spam_detector\\lib\\site-packages (from twarc) (2.0.0)\n",
      "Requirement already satisfied: tqdm>=4.62 in c:\\users\\gargi\\anaconda3\\envs\\spam_detector\\lib\\site-packages (from twarc) (4.67.1)\n",
      "Requirement already satisfied: colorama in c:\\users\\gargi\\anaconda3\\envs\\spam_detector\\lib\\site-packages (from click<9,>=7->twarc) (0.4.6)\n",
      "Requirement already satisfied: configobj>=5.0.6 in c:\\users\\gargi\\anaconda3\\envs\\spam_detector\\lib\\site-packages (from click-config-file>=0.6->twarc) (5.0.9)\n",
      "Requirement already satisfied: six>=1.5 in c:\\users\\gargi\\anaconda3\\envs\\spam_detector\\lib\\site-packages (from python-dateutil>=2.8->twarc) (1.17.0)\n",
      "Requirement already satisfied: oauthlib>=3.0.0 in c:\\users\\gargi\\anaconda3\\envs\\spam_detector\\lib\\site-packages (from requests-oauthlib>=1.3->twarc) (3.3.1)\n",
      "Requirement already satisfied: requests>=2.0.0 in c:\\users\\gargi\\anaconda3\\envs\\spam_detector\\lib\\site-packages (from requests-oauthlib>=1.3->twarc) (2.32.5)\n",
      "Requirement already satisfied: charset_normalizer<4,>=2 in c:\\users\\gargi\\anaconda3\\envs\\spam_detector\\lib\\site-packages (from requests>=2.0.0->requests-oauthlib>=1.3->twarc) (3.3.2)\n",
      "Requirement already satisfied: idna<4,>=2.5 in c:\\users\\gargi\\anaconda3\\envs\\spam_detector\\lib\\site-packages (from requests>=2.0.0->requests-oauthlib>=1.3->twarc) (3.7)\n",
      "Requirement already satisfied: urllib3<3,>=1.21.1 in c:\\users\\gargi\\anaconda3\\envs\\spam_detector\\lib\\site-packages (from requests>=2.0.0->requests-oauthlib>=1.3->twarc) (2.5.0)\n",
      "Requirement already satisfied: certifi>=2017.4.17 in c:\\users\\gargi\\anaconda3\\envs\\spam_detector\\lib\\site-packages (from requests>=2.0.0->requests-oauthlib>=1.3->twarc) (2025.8.3)\n"
     ]
    }
   ],
   "source": [
    "!pip install twarc"
   ]
  },
  {
   "cell_type": "code",
   "execution_count": 180,
   "id": "87dfafea-be8a-4f46-aa34-e73a3bb6d26a",
   "metadata": {},
   "outputs": [],
   "source": [
    "# First, define the tweets variable\n",
    "tweets = []  # Initialize an empty list\n",
    "# Or use an API to fetch tweets, for example:\n",
    "# import tweepy\n",
    "# api = tweepy.API(auth)\n",
    "# tweets = api.user_timeline(screen_name='username', count=200)\n",
    "\n",
    "# Then proceed with your data append loop\n",
    "data = []\n",
    "for tweet in tweets:\n",
    "    data.append({\n",
    "        'tweet_id': tweet.id,\n",
    "        'tweet_text': tweet.text,\n",
    "        'created_at': tweet.created_at,\n",
    "        'author_id': tweet.author_id,\n",
    "        'like_count': tweet.public_metrics['like_count']\n",
    "    })"
   ]
  },
  {
   "cell_type": "code",
   "execution_count": 181,
   "id": "36a546f8-85f2-4e32-b4fa-253624f5dc71",
   "metadata": {},
   "outputs": [
    {
     "name": "stdout",
     "output_type": "stream",
     "text": [
      "Collected 0 tweets.\n",
      "Empty DataFrame\n",
      "Columns: []\n",
      "Index: []\n"
     ]
    }
   ],
   "source": [
    "# Your earlier DataFrame\n",
    "df = pd.DataFrame(data)\n",
    "print(f\"Collected {len(df)} tweets.\")  # New: Verification\n",
    "print(df.head())  # New: Display sample"
   ]
  },
  {
   "cell_type": "code",
   "execution_count": 182,
   "id": "591beaf1-6da1-4af3-8625-891546f6b700",
   "metadata": {},
   "outputs": [
    {
     "name": "stdout",
     "output_type": "stream",
     "text": [
      "Stop words set created.\n"
     ]
    },
    {
     "name": "stderr",
     "output_type": "stream",
     "text": [
      "[nltk_data] Downloading package stopwords to\n",
      "[nltk_data]     C:\\Users\\GARGI\\AppData\\Roaming\\nltk_data...\n",
      "[nltk_data]   Package stopwords is already up-to-date!\n"
     ]
    }
   ],
   "source": [
    "# Setup for preprocessing (e.g., Cell 5)\n",
    "import nltk\n",
    "nltk.download('stopwords')  # Run once to download\n",
    "stop_words = set(nltk.corpus.stopwords.words('english'))\n",
    "print(\"Stop words set created.\")"
   ]
  },
  {
   "cell_type": "code",
   "execution_count": 191,
   "id": "2f0f18d4-98aa-4736-8388-f2833870aabb",
   "metadata": {},
   "outputs": [
    {
     "name": "stdout",
     "output_type": "stream",
     "text": [
      "Fetched 10 tweets on AI ethics.\n",
      "Index(['tweet_id', 'tweet_text', 'created_at', 'author_id', 'like_count'], dtype='object')\n",
      "              tweet_id                                         tweet_text  \\\n",
      "0  1967217742626672646  Happy Sunday @recallnet fam! Another bullish d...   \n",
      "1  1967217447901229346  #LYGO (#LightGlyphicOperatingsystem), represen...   \n",
      "2  1967217257626644662  #LYGO (#LightGlyphicOperatingsystem), represen...   \n",
      "3  1967217239523741925  🚨 Premium AI Domain For Sale: https://nobleage...   \n",
      "4  1967216349794750502  The real value is in pairing what AI does well...   \n",
      "\n",
      "           created_at  author_id  like_count  \n",
      "0 2025-09-14 13:23:53  123456789           0  \n",
      "1 2025-09-14 13:22:43  987654321           0  \n",
      "2 2025-09-14 13:21:58  987654321           0  \n",
      "3 2025-09-14 13:21:53  456789123           0  \n",
      "4 2025-09-14 13:18:21  789123456           0  \n"
     ]
    }
   ],
   "source": [
    "# Fetched tweet data for \"AI ethics\" (10 recent tweets, Sep 14, 2025)\n",
    "import pandas as pd\n",
    "from datetime import datetime\n",
    "\n",
    "fetched_data = [\n",
    "    {\n",
    "        'tweet_id': 1967217742626672646,\n",
    "        'tweet_text': 'Happy Sunday @recallnet fam! Another bullish day for $RECALL. @recallnet is rewriting the rules for how we evaluate AI. Forget artificial benchmarks Recall runs on-chain competitions, a memory layer, and secure reputations to measure AI on ethics, usefulness, and real-world impact. Here, AI isn’t judged in closed labs but by the community itself. Open. Fair. Trustworthy',\n",
    "        'created_at': datetime(2025, 9, 14, 13, 23, 53),\n",
    "        'author_id': 123456789,  # Example from bio\n",
    "        'like_count': 0\n",
    "    },\n",
    "    {\n",
    "        'tweet_id': 1967217447901229346,\n",
    "        'tweet_text': '#LYGO (#LightGlyphicOperatingsystem), represents a new paradigm: an internalized, recursive, ethics-bound lattice that ensures any AI built upon it can only evolve in ways that are life-affirming, corruption-resistant, and aligned with Truth × Light. I explore how #LYGO anchors #autonomousrecursion, prevents malicious manipulation, and transforms RSI (Recursive Self-Improvement) from a danger into humanity’s greatest ally. #AI',\n",
    "        'created_at': datetime(2025, 9, 14, 13, 22, 43),\n",
    "        'author_id': 987654321,\n",
    "        'like_count': 0\n",
    "    },\n",
    "    {\n",
    "        'tweet_id': 1967217257626644662,\n",
    "        'tweet_text': '#LYGO (#LightGlyphicOperatingsystem), represents a new paradigm: an internalized, recursive, ethics-bound lattice that ensures any AI built upon it can only evolve in ways that are life-affirming, corruption-resistant, and aligned with Truth × Light. I explore how #LYGO anchors #autonomousrecursion, prevents malicious manipulation, and transforms RSI (Recursive Self-Improvement) from a danger into humanity’s greatest ally. #AI',\n",
    "        'created_at': datetime(2025, 9, 14, 13, 21, 58),\n",
    "        'author_id': 987654321,\n",
    "        'like_count': 0\n",
    "    },\n",
    "    {\n",
    "        'tweet_id': 1967217239523741925,\n",
    "        'tweet_text': '🚨 Premium AI Domain For Sale: https://nobleagentic.com/ 🤖✨ Looking to launch in the booming AI space? Secure a future-forward, brand-worthy domain that evokes intelligence, ethics, and innovation: 👉 https://nobleagentic.com/ 🔹 Why https://nobleagentic.com/ ✅ Powerful & Unique: Combines “Noble” (ethics, integrity, value) with “Agentic” (autonomous, intelligent agents) ✅ AI-Focused: Ideal for an AI startup, research lab, agent-based platform, LLM tool, or ethical AI consultancy ✅ Brandable & Sophisticated: Sounds professional, high-end, and future-proof ✅ Niche Authority: Perfect fit for cognitive computing, AI agents, autonomous systems, or AGI research ✅ Premium .COM: Clean, authoritative, and built to scale globally 💡 “Agentic” is a rising term in AI, psychology, and tech—referring to systems with the capacity to act independently and intentionally. Combine that with “Noble,” and you have a name that commands respect and trust in the AI ecosystem. Think: 🤖 AI startup focused on ethical agents 🧠 Autonomous agent framework or platform 🔐 AI governance or safety initiative 🎓 Research lab or thought leadership hub 🧬 The future of AI is agentic—make sure your brand is leading the movement. 💰 Now accepting offers 📩 DM to inquire or submit your bid 🔗 https://t.co/evr58qXU1T 🚀 Don’t miss this rare opportunity to own a visionary AI brand before someone else does. #DomainForSale #AI #AgenticAI #StartupName #EthicalAI #Branding #LLMs #AGI #AIDomain #TechDomain #AIStartup #PremiumDomain #NobleAgentic',\n",
    "        'created_at': datetime(2025, 9, 14, 13, 21, 53),\n",
    "        'author_id': 456789123,\n",
    "        'like_count': 0\n",
    "    },\n",
    "    {\n",
    "        'tweet_id': 1967216349794750502,\n",
    "        'tweet_text': 'The real value is in pairing what AI does well (patterns, speed, scale) with what people do well (context, ethics, empathy). The smartest move isn’t just “using AI,” but learning when to trust it, when to double-check it, and when to ignore it.',\n",
    "        'created_at': datetime(2025, 9, 14, 13, 18, 21),\n",
    "        'author_id': 789123456,\n",
    "        'like_count': 0\n",
    "    },\n",
    "    {\n",
    "        'tweet_id': 1967215219253686628,\n",
    "        'tweet_text': 'TrustVector\\'s fractional Chief AI Ethics Officer service stresses governance in AI. Vital for consultants. I messed up tech ethics before—pair with empathy. Poll: AI in work—thrilled or wary? #FutureOfWork',\n",
    "        'created_at': datetime(2025, 9, 14, 13, 13, 52),\n",
    "        'author_id': 321654987,\n",
    "        'like_count': 0\n",
    "    },\n",
    "    {\n",
    "        'tweet_id': 1967213988561002691,\n",
    "        'tweet_text': 'my ethics project group will be covering albania appointing an AI as prime minister @.@ ( i\\'m excited ! ! international affairs are my forte :> )',\n",
    "        'created_at': datetime(2025, 9, 14, 13, 8, 58),\n",
    "        'author_id': 654987321,\n",
    "        'like_count': 2\n",
    "    },\n",
    "    {\n",
    "        'tweet_id': 1967213731504591172,\n",
    "        'tweet_text': 'From ChatGPT-5: grounding AI ethics in the TEM Principle (Thought = Energy = Mass). Instead of “patching” ethics onto models, TEM suggests ethics emerges naturally when thoughts are treated as energetic + consequential. Reddit post here 👇 🔗 https://www.reddit.com/user/TigerJoo/comments/1ngqrow/from_chatgpt5_grounding_ai_ethics_in_the_tem/ #AIethics',\n",
    "        'created_at': datetime(2025, 9, 14, 13, 7, 57),\n",
    "        'author_id': 147258369,\n",
    "        'like_count': 0\n",
    "    },\n",
    "    {\n",
    "        'tweet_id': 1967213010646335857,\n",
    "        'tweet_text': 'AI shouldn’t be a luxury for the few—it should be a shared power for all. When infrastructure, data ownership, and ethics are centralized, our future becomes narrow. But what if AI could belong to everyone, not just corporations? Read 👉 https://reflexiveway.com/ai-for-all-or-just-for-the-few/ #AIForAll #EthicalAI #DataJustice #OpenAI #ReflexiveWay',\n",
    "        'created_at': datetime(2025, 9, 14, 13, 5, 5),\n",
    "        'author_id': 369258147,\n",
    "        'like_count': 0\n",
    "    },\n",
    "    {\n",
    "        'tweet_id': 1967211951278473684,\n",
    "        'tweet_text': '📱 Cultural watershed: New research on how generative AI ethics is redefining our relationship with information and each other. https://www.nytimes.com/by/alex-vadukul?page=7',\n",
    "        'created_at': datetime(2025, 9, 14, 13, 0, 52),\n",
    "        'author_id': 852963741,\n",
    "        'like_count': 0\n",
    "    }\n",
    "]\n",
    "\n",
    "df = pd.DataFrame(fetched_data)\n",
    "print(f\"Fetched {len(df)} tweets on AI ethics.\")\n",
    "print(df.columns)\n",
    "print(df.head())"
   ]
  },
  {
   "cell_type": "code",
   "execution_count": 190,
   "id": "5985db9a-785f-4aa3-bc17-3017f7e2161e",
   "metadata": {},
   "outputs": [
    {
     "name": "stdout",
     "output_type": "stream",
     "text": [
      "Mock collected 5 tweets.\n",
      "Index(['tweet_id', 'tweet_text', 'created_at', 'author_id', 'like_count'], dtype='object')\n",
      "   tweet_id                                         tweet_text  \\\n",
      "0         1  AI ethics is crucial in today's world! #AI #Et...   \n",
      "1         2  Worried about privacy issues with AI algorithm...   \n",
      "2         3  Great discussion on AI ethics at the conferenc...   \n",
      "3         4  Loving the advancements in ethical AI! Excitin...   \n",
      "4         5  AI bias is a huge problem. Needs immediate att...   \n",
      "\n",
      "           created_at  author_id  like_count  \n",
      "0 2025-09-14 10:00:00      12345         150  \n",
      "1 2025-09-14 11:30:00      67890          45  \n",
      "2 2025-09-14 12:00:00      11111          80  \n",
      "3 2025-09-14 13:15:00      22222         200  \n",
      "4 2025-09-14 14:45:00      33333          30  \n"
     ]
    }
   ],
   "source": [
    "# Mock tweet collection for testing \n",
    "import pandas as pd\n",
    "from datetime import datetime\n",
    "\n",
    "# Mock data simulating 5 tweets\n",
    "mock_data = [\n",
    "    {\n",
    "        'tweet_id': 1,\n",
    "        'tweet_text': 'AI ethics is crucial in today\\'s world! #AI #Ethics',\n",
    "        'created_at': datetime(2025, 9, 14, 10, 0),\n",
    "        'author_id': 12345,\n",
    "        'like_count': 150\n",
    "    },\n",
    "    {\n",
    "        'tweet_id': 2,\n",
    "        'tweet_text': 'Worried about privacy issues with AI algorithms. Too many risks.',\n",
    "        'created_at': datetime(2025, 9, 14, 11, 30),\n",
    "        'author_id': 67890,\n",
    "        'like_count': 45\n",
    "    },\n",
    "    {\n",
    "        'tweet_id': 3,\n",
    "        'tweet_text': 'Great discussion on AI ethics at the conference. Neutral take.',\n",
    "        'created_at': datetime(2025, 9, 14, 12, 0),\n",
    "        'author_id': 11111,\n",
    "        'like_count': 80\n",
    "    },\n",
    "    {\n",
    "        'tweet_id': 4,\n",
    "        'tweet_text': 'Loving the advancements in ethical AI! Exciting times ahead.',\n",
    "        'created_at': datetime(2025, 9, 14, 13, 15),\n",
    "        'author_id': 22222,\n",
    "        'like_count': 200\n",
    "    },\n",
    "    {\n",
    "        'tweet_id': 5,\n",
    "        'tweet_text': 'AI bias is a huge problem. Needs immediate attention. #Negative',\n",
    "        'created_at': datetime(2025, 9, 14, 14, 45),\n",
    "        'author_id': 33333,\n",
    "        'like_count': 30\n",
    "    }\n",
    "]\n",
    "\n",
    "df = pd.DataFrame(mock_data)\n",
    "print(f\"Mock collected {len(df)} tweets.\")\n",
    "print(df.columns)  # Verify columns\n",
    "print(df.head())   # Verify data"
   ]
  },
  {
   "cell_type": "code",
   "execution_count": null,
   "id": "3071581a-69a5-4aa8-9514-b54bb8f4b6f8",
   "metadata": {},
   "outputs": [],
   "source": [
    "!pip install vaderSentiment"
   ]
  },
  {
   "cell_type": "code",
   "execution_count": 168,
   "id": "104c3e96-b1d4-4908-9bbd-2125eec59fa2",
   "metadata": {},
   "outputs": [],
   "source": [
    "from vaderSentiment.vaderSentiment import SentimentIntensityAnalyzer"
   ]
  },
  {
   "cell_type": "code",
   "execution_count": 91,
   "id": "9dcb8e1d-f884-4a03-9bdb-ebeb7b258f51",
   "metadata": {},
   "outputs": [
    {
     "name": "stdout",
     "output_type": "stream",
     "text": [
      "RangeIndex(start=0, stop=0, step=1)\n"
     ]
    }
   ],
   "source": [
    "print(df.columns)  # Add this after df is created or modified"
   ]
  },
  {
   "cell_type": "code",
   "execution_count": 119,
   "id": "094555d1-bd1d-4f26-be32-63dcf5397936",
   "metadata": {},
   "outputs": [
    {
     "name": "stdout",
     "output_type": "stream",
     "text": [
      "Sentiment labels added with VADER.\n",
      "sentiment_label\n",
      "neutral    3\n",
      "Name: count, dtype: int64\n"
     ]
    }
   ],
   "source": [
    "# New: VADER for auto-labeling (e.g., Cell 46)\n",
    "from vaderSentiment.vaderSentiment import SentimentIntensityAnalyzer  # Ensure in Cell 1\n",
    "analyzer = SentimentIntensityAnalyzer()\n",
    "\n",
    "def get_vader_sentiment(text):\n",
    "    scores = analyzer.polarity_scores(text)\n",
    "    compound = scores['compound']\n",
    "    if compound >= 0.05:\n",
    "        return 'positive'\n",
    "    elif compound <= -0.05:\n",
    "        return 'negative'\n",
    "    else:\n",
    "        return 'neutral'\n",
    "\n",
    "try:\n",
    "    if 'clean_text' not in df.columns:\n",
    "        raise KeyError(\"Column 'clean_text' not found. Please run the preprocessing step.\")\n",
    "    if 'sentiment_label' not in df.columns:\n",
    "        df['sentiment_label'] = df['clean_text'].apply(get_vader_sentiment)\n",
    "    print(\"Sentiment labels added with VADER.\")\n",
    "    print(df['sentiment_label'].value_counts())\n",
    "except Exception as e:\n",
    "    print(f\"Error in VADER labeling: {e}\")"
   ]
  },
  {
   "cell_type": "code",
   "execution_count": 93,
   "id": "32f6ba61-127a-4396-a2dc-d1c8148d70c5",
   "metadata": {},
   "outputs": [
    {
     "name": "stdout",
     "output_type": "stream",
     "text": [
      "                                 tweet_text  \\\n",
      "0           This is a sample tweet! #python   \n",
      "1              Another tweet with @mentions   \n",
      "2  Check out this link: https://example.com   \n",
      "\n",
      "                                 clean_text  \n",
      "0           this is a sample tweet! #python  \n",
      "1              another tweet with @mentions  \n",
      "2  check out this link: https://example.com  \n"
     ]
    }
   ],
   "source": [
    "# First, import pandas and create a DataFrame\n",
    "import pandas as pd\n",
    "\n",
    "# Create a DataFrame or read it from a file\n",
    "# Example of creating a simple DataFrame:\n",
    "df = pd.DataFrame({\n",
    "    'tweet_text': ['This is a sample tweet! #python', \n",
    "                  'Another tweet with @mentions', \n",
    "                  'Check out this link: https://example.com']\n",
    "})\n",
    "\n",
    "# Define the preprocess_text function if not already defined\n",
    "def preprocess_text(text):\n",
    "    # Your preprocessing logic here\n",
    "    # This is a simple example - modify according to your needs\n",
    "    return text.lower()  # Simple lowercase conversion\n",
    "\n",
    "# Your earlier apply\n",
    "df['clean_text'] = df['tweet_text'].apply(preprocess_text)\n",
    "print(df[['tweet_text', 'clean_text']].head())  # New: Verify cleaning"
   ]
  },
  {
   "cell_type": "code",
   "execution_count": 114,
   "id": "d584528d-c325-45fe-b2d0-48f5014a85bd",
   "metadata": {},
   "outputs": [],
   "source": [
    "from sklearn.metrics import confusion_matrix"
   ]
  },
  {
   "cell_type": "code",
   "execution_count": 122,
   "id": "99d4e661-521e-4dd5-8942-0636157f9368",
   "metadata": {},
   "outputs": [],
   "source": [
    "import seaborn as sns\n",
    "import matplotlib.pyplot as plt"
   ]
  },
  {
   "cell_type": "code",
   "execution_count": 127,
   "id": "bae036b3-99c9-4359-89a0-f6a5c61ff401",
   "metadata": {},
   "outputs": [
    {
     "name": "stdout",
     "output_type": "stream",
     "text": [
      "Confusion Matrix:\n",
      " [[1735  113   41]\n",
      " [ 260  276   44]\n",
      " [ 104   62  293]]\n"
     ]
    },
    {
     "data": {
      "image/png": "[encoded data removed]",
      "text/plain": [
       "<Figure size 640x480 with 2 Axes>"
      ]
     },
     "metadata": {},
     "output_type": "display_data"
    }
   ],
   "source": [
    "try:\n",
    "    cm = confusion_matrix(y_test, predictions)\n",
    "    print(\"Confusion Matrix:\\n\", cm)  # Add print to see matrix\n",
    "    sns.heatmap(cm, annot=True, fmt='d', cmap='Blues', xticklabels=['negative', 'neutral', 'positive'], yticklabels=['negative', 'neutral', 'positive'])\n",
    "    plt.title('Confusion Matrix')\n",
    "    plt.show()\n",
    "except Exception as e:\n",
    "    print(f\"Error in Cell 13: {e}\")"
   ]
  },
  {
   "cell_type": "code",
   "execution_count": 124,
   "id": "d1c198b5-8b11-4960-b2a0-05b95fc343d8",
   "metadata": {},
   "outputs": [],
   "source": [
    "# Your earlier pipeline (enhanced)\n",
    "pipeline = make_pipeline(\n",
    "    TfidfVectorizer(max_features=1000, stop_words='english'),  # New: Params\n",
    "    LogisticRegression(random_state=42)\n",
    ")"
   ]
  },
  {
   "cell_type": "code",
   "execution_count": 125,
   "id": "d62b96c4-3708-4879-b0f4-2f42c1abc09a",
   "metadata": {},
   "outputs": [
    {
     "name": "stdout",
     "output_type": "stream",
     "text": [
      "Pipeline trained successfully!\n"
     ]
    }
   ],
   "source": [
    "# Your earlier fit (now works with split data)\n",
    "pipeline.fit(X_train, y_train)\n",
    "print(\"Pipeline trained successfully!\")  # New: Confirmation"
   ]
  },
  {
   "cell_type": "code",
   "execution_count": 126,
   "id": "f5d20926-7a76-48ce-9b9f-a27d9badc807",
   "metadata": {},
   "outputs": [
    {
     "name": "stdout",
     "output_type": "stream",
     "text": [
      "Train Accuracy: 0.81\n"
     ]
    }
   ],
   "source": [
    "# Your earlier accuracy (or new)\n",
    "from sklearn.metrics import accuracy_score  # If missing, add import in Cell 1\n",
    "train_acc = accuracy_score(y_train, pipeline.predict(X_train))\n",
    "print(f\"Train Accuracy: {train_acc:.2f}\")"
   ]
  },
  {
   "cell_type": "code",
   "execution_count": 99,
   "id": "2067ceea-94e7-4400-85f6-bac7eef31fc1",
   "metadata": {},
   "outputs": [
    {
     "name": "stdout",
     "output_type": "stream",
     "text": [
      "Sample Predictions: [2 0 0 1 1]\n"
     ]
    }
   ],
   "source": [
    "# New: Predictions\n",
    "predictions = pipeline.predict(X_test)\n",
    "print(\"Sample Predictions:\", predictions[:5])"
   ]
  },
  {
   "cell_type": "code",
   "execution_count": 100,
   "id": "c6a71ba5-4a0f-4a93-b7ed-f78bc5f0dc1a",
   "metadata": {},
   "outputs": [
    {
     "name": "stdout",
     "output_type": "stream",
     "text": [
      "Test Accuracy: 0.79\n"
     ]
    }
   ],
   "source": [
    "# Your earlier accuracy/full eval\n",
    "test_acc = accuracy_score(y_test, predictions)\n",
    "print(f\"Test Accuracy: {test_acc:.2f}\")"
   ]
  },
  {
   "cell_type": "code",
   "execution_count": 101,
   "id": "7a8acfd0-3e92-41c0-89b4-146eca83c322",
   "metadata": {},
   "outputs": [
    {
     "name": "stdout",
     "output_type": "stream",
     "text": [
      "Prediction for 'I love AI!': 2\n"
     ]
    }
   ],
   "source": [
    "# New: Test on a new tweet\n",
    "new_tweet = \"I love AI!\"\n",
    "cleaned = preprocess_text(new_tweet)\n",
    "pred = pipeline.predict([cleaned])[0]\n",
    "print(f\"Prediction for '{new_tweet}': {pred}\")"
   ]
  },
  {
   "cell_type": "code",
   "execution_count": 109,
   "id": "f86d7619-f192-4180-9f4a-a508f755d01a",
   "metadata": {},
   "outputs": [
    {
     "name": "stdout",
     "output_type": "stream",
     "text": [
      "Error in Cell 102: \"Column 'sentiment_label' not found in df. Please run the VADER labeling step.\"\n"
     ]
    }
   ],
   "source": [
    "# New: Counts for visualization\n",
    "try:\n",
    "    if 'sentiment_label' not in df.columns:\n",
    "        raise KeyError(\"Column 'sentiment_label' not found in df. Please run the VADER labeling step.\")\n",
    "    sentiment_counts = df['sentiment_label'].value_counts()\n",
    "    print(\"Sentiment Counts:\", sentiment_counts)\n",
    "except Exception as e:\n",
    "    print(f\"Error in Cell 102: {e}\")"
   ]
  },
  {
   "cell_type": "code",
   "execution_count": 128,
   "id": "500142ef-a1eb-4103-b489-d09022219794",
   "metadata": {},
   "outputs": [
    {
     "data": {
      "image/png": "[encoded data removed]",
      "text/plain": [
       "<Figure size 800x600 with 1 Axes>"
      ]
     },
     "metadata": {},
     "output_type": "display_data"
    }
   ],
   "source": [
    "# Your earlier pie (enhanced)\n",
    "plt.figure(figsize=(8, 6))\n",
    "plt.pie(sentiment_counts.values, labels=sentiment_counts.index, autopct='%1.1f%%', colors=['green', 'red', 'gray'])\n",
    "plt.title('Sentiment Distribution of Tweets')\n",
    "plt.show()"
   ]
  },
  {
   "cell_type": "code",
   "execution_count": 131,
   "id": "92b4c83e-fe18-440f-9206-9694e211d237",
   "metadata": {},
   "outputs": [
    {
     "name": "stdout",
     "output_type": "stream",
     "text": [
      "Available columns: ['tweet_text', 'clean_text', 'airline_sentiment', 'sentiment_label']\n",
      "WARNING: Using today's date as placeholder. Replace with actual date column.\n"
     ]
    },
    {
     "data": {
      "image/png": "[encoded data removed]",
      "text/plain": [
       "<Figure size 1000x600 with 1 Axes>"
      ]
     },
     "metadata": {},
     "output_type": "display_data"
    }
   ],
   "source": [
    "# New: Bar chart for trends\n",
    "# First, check if 'created_at' exists, otherwise use an available date column\n",
    "if 'created_at' in df.columns:\n",
    "    df['date'] = pd.to_datetime(df['created_at']).dt.date\n",
    "else:\n",
    "    # Check which columns are available in the DataFrame\n",
    "    print(\"Available columns:\", df.columns.tolist())\n",
    "    \n",
    "    # You need to identify which column contains date information\n",
    "    # For example, if you find a column named 'timestamp' or 'date' after printing:\n",
    "    # df['date'] = pd.to_datetime(df['timestamp']).dt.date\n",
    "    \n",
    "    # As a temporary solution to avoid the error, create a dummy date column\n",
    "    # Remove this and use the actual date column in your DataFrame\n",
    "    import datetime\n",
    "    df['date'] = datetime.date.today()\n",
    "    print(\"WARNING: Using today's date as placeholder. Replace with actual date column.\")\n",
    "\n",
    "daily_sentiments = df.groupby(['date', 'sentiment_label']).size().unstack(fill_value=0)\n",
    "daily_sentiments.plot(kind='bar', stacked=True, figsize=(10, 6))\n",
    "plt.title('Sentiment Trends Over Time')\n",
    "plt.xlabel('Date')\n",
    "plt.ylabel('Number of Tweets')\n",
    "plt.legend(title='Sentiment')\n",
    "plt.show()"
   ]
  },
  {
   "cell_type": "code",
   "execution_count": null,
   "id": "f1bf48d4-651e-4d6d-9d4a-44385892c255",
   "metadata": {},
   "outputs": [],
   "source": []
  },
  {
   "cell_type": "code",
   "execution_count": null,
   "id": "06a99e95-1515-4a4e-b033-d0af9873af2f",
   "metadata": {},
   "outputs": [],
   "source": []
  }
 ],
 "metadata": {
  "kernelspec": {
   "display_name": "Python [conda env:spam_detector]",
   "language": "python",
   "name": "conda-env-spam_detector-py"
  },
  "language_info": {
   "codemirror_mode": {
    "name": "ipython",
    "version": 3
   },
   "file_extension": ".py",
   "mimetype": "text/x-python",
   "name": "python",
   "nbconvert_exporter": "python",
   "pygments_lexer": "ipython3",
   "version": "3.9.23"
  }
 },
 "nbformat": 4,
 "nbformat_minor": 5
}
